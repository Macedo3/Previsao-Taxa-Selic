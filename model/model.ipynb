{
 "cells": [
  {
   "cell_type": "markdown",
   "metadata": {},
   "source": [
    "# Starting the analysis to choose the algorithm"
   ]
  },
  {
   "cell_type": "markdown",
   "metadata": {},
   "source": [
    "## Importing the initial Libs "
   ]
  },
  {
   "cell_type": "code",
   "execution_count": 84,
   "metadata": {},
   "outputs": [],
   "source": [
    "import pandas as pd\n",
    "import numpy as np\n",
    "import seaborn as sns\n",
    "import matplotlib.pyplot as plt\n",
    "import pycaret as pc\n",
    "sns.set_theme()"
   ]
  },
  {
   "cell_type": "markdown",
   "metadata": {},
   "source": [
    "## Reading the Data"
   ]
  },
  {
   "cell_type": "code",
   "execution_count": 85,
   "metadata": {},
   "outputs": [],
   "source": [
    "df_mensal = pd.read_excel('../data/df_mensal.xlsx', engine='openpyxl')"
   ]
  },
  {
   "cell_type": "code",
   "execution_count": 86,
   "metadata": {},
   "outputs": [],
   "source": [
    "taxas_de_juros = pd.read_excel('../data/taxas_de_juros.xlsx', engine='openpyxl')"
   ]
  },
  {
   "cell_type": "code",
   "execution_count": 87,
   "metadata": {},
   "outputs": [],
   "source": [
    "usd_brl = pd.read_excel('../data/USD_BRL Dados Históricos.xlsx', engine='openpyxl')"
   ]
  },
  {
   "cell_type": "markdown",
   "metadata": {},
   "source": [
    "## PreProcess of the Data"
   ]
  },
  {
   "cell_type": "markdown",
   "metadata": {},
   "source": [
    "### df_mensal"
   ]
  },
  {
   "cell_type": "code",
   "execution_count": 88,
   "metadata": {},
   "outputs": [
    {
     "data": {
      "text/html": [
       "<div>\n",
       "<style scoped>\n",
       "    .dataframe tbody tr th:only-of-type {\n",
       "        vertical-align: middle;\n",
       "    }\n",
       "\n",
       "    .dataframe tbody tr th {\n",
       "        vertical-align: top;\n",
       "    }\n",
       "\n",
       "    .dataframe thead th {\n",
       "        text-align: right;\n",
       "    }\n",
       "</style>\n",
       "<table border=\"1\" class=\"dataframe\">\n",
       "  <thead>\n",
       "    <tr style=\"text-align: right;\">\n",
       "      <th></th>\n",
       "      <th>DateTime</th>\n",
       "      <th>IPCA ocorrido</th>\n",
       "      <th>Variação Petroleo</th>\n",
       "      <th>Taxa de desocupação – desemprego</th>\n",
       "      <th>IBC-Br - atividade econômica</th>\n",
       "    </tr>\n",
       "  </thead>\n",
       "  <tbody>\n",
       "    <tr>\n",
       "      <th>0</th>\n",
       "      <td>2013-01-01</td>\n",
       "      <td>6.15</td>\n",
       "      <td>1.33</td>\n",
       "      <td>NaN</td>\n",
       "      <td>NaN</td>\n",
       "    </tr>\n",
       "    <tr>\n",
       "      <th>1</th>\n",
       "      <td>2013-02-01</td>\n",
       "      <td>6.31</td>\n",
       "      <td>-0.57</td>\n",
       "      <td>NaN</td>\n",
       "      <td>NaN</td>\n",
       "    </tr>\n",
       "    <tr>\n",
       "      <th>2</th>\n",
       "      <td>2013-03-01</td>\n",
       "      <td>6.59</td>\n",
       "      <td>-4.36</td>\n",
       "      <td>NaN</td>\n",
       "      <td>NaN</td>\n",
       "    </tr>\n",
       "    <tr>\n",
       "      <th>3</th>\n",
       "      <td>2013-04-01</td>\n",
       "      <td>6.49</td>\n",
       "      <td>-2.54</td>\n",
       "      <td>NaN</td>\n",
       "      <td>NaN</td>\n",
       "    </tr>\n",
       "    <tr>\n",
       "      <th>4</th>\n",
       "      <td>2013-05-01</td>\n",
       "      <td>6.50</td>\n",
       "      <td>1.84</td>\n",
       "      <td>NaN</td>\n",
       "      <td>NaN</td>\n",
       "    </tr>\n",
       "  </tbody>\n",
       "</table>\n",
       "</div>"
      ],
      "text/plain": [
       "     DateTime  IPCA ocorrido  Variação Petroleo  \\\n",
       "0  2013-01-01           6.15               1.33   \n",
       "1  2013-02-01           6.31              -0.57   \n",
       "2  2013-03-01           6.59              -4.36   \n",
       "3  2013-04-01           6.49              -2.54   \n",
       "4  2013-05-01           6.50               1.84   \n",
       "\n",
       "   Taxa de desocupação – desemprego  IBC-Br - atividade econômica  \n",
       "0                               NaN                           NaN  \n",
       "1                               NaN                           NaN  \n",
       "2                               NaN                           NaN  \n",
       "3                               NaN                           NaN  \n",
       "4                               NaN                           NaN  "
      ]
     },
     "execution_count": 88,
     "metadata": {},
     "output_type": "execute_result"
    }
   ],
   "source": [
    "df_mensal.head()"
   ]
  },
  {
   "cell_type": "code",
   "execution_count": 89,
   "metadata": {},
   "outputs": [],
   "source": [
    "df_mensal['DateTime'] = pd.to_datetime(df_mensal['DateTime'])\n",
    "\n",
    "df_mensal.set_index('DateTime', inplace=True)\n",
    "\n",
    "df_diario = df_mensal.resample('D').ffill()\n",
    "\n",
    "df_diario.reset_index(inplace=True)"
   ]
  },
  {
   "cell_type": "code",
   "execution_count": 90,
   "metadata": {},
   "outputs": [
    {
     "data": {
      "text/html": [
       "<div>\n",
       "<style scoped>\n",
       "    .dataframe tbody tr th:only-of-type {\n",
       "        vertical-align: middle;\n",
       "    }\n",
       "\n",
       "    .dataframe tbody tr th {\n",
       "        vertical-align: top;\n",
       "    }\n",
       "\n",
       "    .dataframe thead th {\n",
       "        text-align: right;\n",
       "    }\n",
       "</style>\n",
       "<table border=\"1\" class=\"dataframe\">\n",
       "  <thead>\n",
       "    <tr style=\"text-align: right;\">\n",
       "      <th></th>\n",
       "      <th>DateTime</th>\n",
       "      <th>IPCA ocorrido</th>\n",
       "      <th>Variação Petroleo</th>\n",
       "      <th>Taxa de desocupação – desemprego</th>\n",
       "      <th>IBC-Br - atividade econômica</th>\n",
       "    </tr>\n",
       "  </thead>\n",
       "  <tbody>\n",
       "    <tr>\n",
       "      <th>0</th>\n",
       "      <td>2013-01-01</td>\n",
       "      <td>6.15</td>\n",
       "      <td>1.33</td>\n",
       "      <td>NaN</td>\n",
       "      <td>NaN</td>\n",
       "    </tr>\n",
       "    <tr>\n",
       "      <th>1</th>\n",
       "      <td>2013-01-02</td>\n",
       "      <td>6.15</td>\n",
       "      <td>1.33</td>\n",
       "      <td>NaN</td>\n",
       "      <td>NaN</td>\n",
       "    </tr>\n",
       "    <tr>\n",
       "      <th>2</th>\n",
       "      <td>2013-01-03</td>\n",
       "      <td>6.15</td>\n",
       "      <td>1.33</td>\n",
       "      <td>NaN</td>\n",
       "      <td>NaN</td>\n",
       "    </tr>\n",
       "    <tr>\n",
       "      <th>3</th>\n",
       "      <td>2013-01-04</td>\n",
       "      <td>6.15</td>\n",
       "      <td>1.33</td>\n",
       "      <td>NaN</td>\n",
       "      <td>NaN</td>\n",
       "    </tr>\n",
       "    <tr>\n",
       "      <th>4</th>\n",
       "      <td>2013-01-05</td>\n",
       "      <td>6.15</td>\n",
       "      <td>1.33</td>\n",
       "      <td>NaN</td>\n",
       "      <td>NaN</td>\n",
       "    </tr>\n",
       "  </tbody>\n",
       "</table>\n",
       "</div>"
      ],
      "text/plain": [
       "    DateTime  IPCA ocorrido  Variação Petroleo  \\\n",
       "0 2013-01-01           6.15               1.33   \n",
       "1 2013-01-02           6.15               1.33   \n",
       "2 2013-01-03           6.15               1.33   \n",
       "3 2013-01-04           6.15               1.33   \n",
       "4 2013-01-05           6.15               1.33   \n",
       "\n",
       "   Taxa de desocupação – desemprego  IBC-Br - atividade econômica  \n",
       "0                               NaN                           NaN  \n",
       "1                               NaN                           NaN  \n",
       "2                               NaN                           NaN  \n",
       "3                               NaN                           NaN  \n",
       "4                               NaN                           NaN  "
      ]
     },
     "execution_count": 90,
     "metadata": {},
     "output_type": "execute_result"
    }
   ],
   "source": [
    "df_diario.head()"
   ]
  },
  {
   "cell_type": "markdown",
   "metadata": {},
   "source": [
    "### taxas_de_juros"
   ]
  },
  {
   "cell_type": "code",
   "execution_count": 91,
   "metadata": {},
   "outputs": [],
   "source": [
    "taxas_de_juros['DateTime'] = pd.to_datetime(taxas_de_juros['DateTime'])"
   ]
  },
  {
   "cell_type": "markdown",
   "metadata": {},
   "source": [
    "### usd_brl"
   ]
  },
  {
   "cell_type": "code",
   "execution_count": 92,
   "metadata": {},
   "outputs": [],
   "source": [
    "usd_brl['DateTime'] = pd.to_datetime(usd_brl['DateTime'])"
   ]
  },
  {
   "cell_type": "markdown",
   "metadata": {},
   "source": [
    "### Merging df's"
   ]
  },
  {
   "cell_type": "code",
   "execution_count": 93,
   "metadata": {},
   "outputs": [],
   "source": [
    "mensal_and_juros = pd.merge(df_diario, taxas_de_juros, on='DateTime')"
   ]
  },
  {
   "cell_type": "code",
   "execution_count": 94,
   "metadata": {},
   "outputs": [
    {
     "data": {
      "text/html": [
       "<div>\n",
       "<style scoped>\n",
       "    .dataframe tbody tr th:only-of-type {\n",
       "        vertical-align: middle;\n",
       "    }\n",
       "\n",
       "    .dataframe tbody tr th {\n",
       "        vertical-align: top;\n",
       "    }\n",
       "\n",
       "    .dataframe thead th {\n",
       "        text-align: right;\n",
       "    }\n",
       "</style>\n",
       "<table border=\"1\" class=\"dataframe\">\n",
       "  <thead>\n",
       "    <tr style=\"text-align: right;\">\n",
       "      <th></th>\n",
       "      <th>DateTime</th>\n",
       "      <th>IPCA ocorrido</th>\n",
       "      <th>Variação Petroleo</th>\n",
       "      <th>Taxa de desocupação – desemprego</th>\n",
       "      <th>IBC-Br - atividade econômica</th>\n",
       "      <th>Selic</th>\n",
       "      <th>Taxa Americana</th>\n",
       "    </tr>\n",
       "  </thead>\n",
       "  <tbody>\n",
       "    <tr>\n",
       "      <th>0</th>\n",
       "      <td>2013-12-05</td>\n",
       "      <td>5.91</td>\n",
       "      <td>5.34</td>\n",
       "      <td>6.3</td>\n",
       "      <td>NaN</td>\n",
       "      <td>10.0</td>\n",
       "      <td>0.09</td>\n",
       "    </tr>\n",
       "    <tr>\n",
       "      <th>1</th>\n",
       "      <td>2013-12-06</td>\n",
       "      <td>5.91</td>\n",
       "      <td>5.34</td>\n",
       "      <td>6.3</td>\n",
       "      <td>NaN</td>\n",
       "      <td>10.0</td>\n",
       "      <td>0.09</td>\n",
       "    </tr>\n",
       "    <tr>\n",
       "      <th>2</th>\n",
       "      <td>2013-12-07</td>\n",
       "      <td>5.91</td>\n",
       "      <td>5.34</td>\n",
       "      <td>6.3</td>\n",
       "      <td>NaN</td>\n",
       "      <td>10.0</td>\n",
       "      <td>0.09</td>\n",
       "    </tr>\n",
       "    <tr>\n",
       "      <th>3</th>\n",
       "      <td>2013-12-08</td>\n",
       "      <td>5.91</td>\n",
       "      <td>5.34</td>\n",
       "      <td>6.3</td>\n",
       "      <td>NaN</td>\n",
       "      <td>10.0</td>\n",
       "      <td>0.09</td>\n",
       "    </tr>\n",
       "    <tr>\n",
       "      <th>4</th>\n",
       "      <td>2013-12-09</td>\n",
       "      <td>5.91</td>\n",
       "      <td>5.34</td>\n",
       "      <td>6.3</td>\n",
       "      <td>NaN</td>\n",
       "      <td>10.0</td>\n",
       "      <td>0.09</td>\n",
       "    </tr>\n",
       "  </tbody>\n",
       "</table>\n",
       "</div>"
      ],
      "text/plain": [
       "    DateTime  IPCA ocorrido  Variação Petroleo  \\\n",
       "0 2013-12-05           5.91               5.34   \n",
       "1 2013-12-06           5.91               5.34   \n",
       "2 2013-12-07           5.91               5.34   \n",
       "3 2013-12-08           5.91               5.34   \n",
       "4 2013-12-09           5.91               5.34   \n",
       "\n",
       "   Taxa de desocupação – desemprego  IBC-Br - atividade econômica  Selic  \\\n",
       "0                               6.3                           NaN   10.0   \n",
       "1                               6.3                           NaN   10.0   \n",
       "2                               6.3                           NaN   10.0   \n",
       "3                               6.3                           NaN   10.0   \n",
       "4                               6.3                           NaN   10.0   \n",
       "\n",
       "   Taxa Americana  \n",
       "0            0.09  \n",
       "1            0.09  \n",
       "2            0.09  \n",
       "3            0.09  \n",
       "4            0.09  "
      ]
     },
     "execution_count": 94,
     "metadata": {},
     "output_type": "execute_result"
    }
   ],
   "source": [
    "mensal_and_juros.head()"
   ]
  },
  {
   "cell_type": "code",
   "execution_count": 95,
   "metadata": {},
   "outputs": [
    {
     "data": {
      "text/plain": [
       "(3588, 7)"
      ]
     },
     "execution_count": 95,
     "metadata": {},
     "output_type": "execute_result"
    }
   ],
   "source": [
    "mensal_and_juros.shape"
   ]
  },
  {
   "cell_type": "code",
   "execution_count": 96,
   "metadata": {},
   "outputs": [],
   "source": [
    "df = pd.merge(mensal_and_juros, usd_brl, on='DateTime')"
   ]
  },
  {
   "cell_type": "code",
   "execution_count": 97,
   "metadata": {},
   "outputs": [
    {
     "data": {
      "text/html": [
       "<div>\n",
       "<style scoped>\n",
       "    .dataframe tbody tr th:only-of-type {\n",
       "        vertical-align: middle;\n",
       "    }\n",
       "\n",
       "    .dataframe tbody tr th {\n",
       "        vertical-align: top;\n",
       "    }\n",
       "\n",
       "    .dataframe thead th {\n",
       "        text-align: right;\n",
       "    }\n",
       "</style>\n",
       "<table border=\"1\" class=\"dataframe\">\n",
       "  <thead>\n",
       "    <tr style=\"text-align: right;\">\n",
       "      <th></th>\n",
       "      <th>DateTime</th>\n",
       "      <th>IPCA ocorrido</th>\n",
       "      <th>Variação Petroleo</th>\n",
       "      <th>Taxa de desocupação – desemprego</th>\n",
       "      <th>IBC-Br - atividade econômica</th>\n",
       "      <th>Selic</th>\n",
       "      <th>Taxa Americana</th>\n",
       "      <th>Var%</th>\n",
       "    </tr>\n",
       "  </thead>\n",
       "  <tbody>\n",
       "    <tr>\n",
       "      <th>0</th>\n",
       "      <td>2013-12-06</td>\n",
       "      <td>5.91</td>\n",
       "      <td>5.34</td>\n",
       "      <td>6.3</td>\n",
       "      <td>NaN</td>\n",
       "      <td>10.0</td>\n",
       "      <td>0.09</td>\n",
       "      <td>0.0111</td>\n",
       "    </tr>\n",
       "    <tr>\n",
       "      <th>1</th>\n",
       "      <td>2013-12-07</td>\n",
       "      <td>5.91</td>\n",
       "      <td>5.34</td>\n",
       "      <td>6.3</td>\n",
       "      <td>NaN</td>\n",
       "      <td>10.0</td>\n",
       "      <td>0.09</td>\n",
       "      <td>0.0060</td>\n",
       "    </tr>\n",
       "    <tr>\n",
       "      <th>2</th>\n",
       "      <td>2013-12-08</td>\n",
       "      <td>5.91</td>\n",
       "      <td>5.34</td>\n",
       "      <td>6.3</td>\n",
       "      <td>NaN</td>\n",
       "      <td>10.0</td>\n",
       "      <td>0.09</td>\n",
       "      <td>0.0069</td>\n",
       "    </tr>\n",
       "    <tr>\n",
       "      <th>3</th>\n",
       "      <td>2013-12-09</td>\n",
       "      <td>5.91</td>\n",
       "      <td>5.34</td>\n",
       "      <td>6.3</td>\n",
       "      <td>NaN</td>\n",
       "      <td>10.0</td>\n",
       "      <td>0.09</td>\n",
       "      <td>-0.0009</td>\n",
       "    </tr>\n",
       "    <tr>\n",
       "      <th>4</th>\n",
       "      <td>2013-12-11</td>\n",
       "      <td>5.91</td>\n",
       "      <td>5.34</td>\n",
       "      <td>6.3</td>\n",
       "      <td>NaN</td>\n",
       "      <td>10.0</td>\n",
       "      <td>0.08</td>\n",
       "      <td>0.0011</td>\n",
       "    </tr>\n",
       "  </tbody>\n",
       "</table>\n",
       "</div>"
      ],
      "text/plain": [
       "    DateTime  IPCA ocorrido  Variação Petroleo  \\\n",
       "0 2013-12-06           5.91               5.34   \n",
       "1 2013-12-07           5.91               5.34   \n",
       "2 2013-12-08           5.91               5.34   \n",
       "3 2013-12-09           5.91               5.34   \n",
       "4 2013-12-11           5.91               5.34   \n",
       "\n",
       "   Taxa de desocupação – desemprego  IBC-Br - atividade econômica  Selic  \\\n",
       "0                               6.3                           NaN   10.0   \n",
       "1                               6.3                           NaN   10.0   \n",
       "2                               6.3                           NaN   10.0   \n",
       "3                               6.3                           NaN   10.0   \n",
       "4                               6.3                           NaN   10.0   \n",
       "\n",
       "   Taxa Americana    Var%  \n",
       "0            0.09  0.0111  \n",
       "1            0.09  0.0060  \n",
       "2            0.09  0.0069  \n",
       "3            0.09 -0.0009  \n",
       "4            0.08  0.0011  "
      ]
     },
     "execution_count": 97,
     "metadata": {},
     "output_type": "execute_result"
    }
   ],
   "source": [
    "df.head()"
   ]
  },
  {
   "cell_type": "markdown",
   "metadata": {},
   "source": [
    "## Dev the model"
   ]
  },
  {
   "cell_type": "markdown",
   "metadata": {},
   "source": [
    "### Finding the best model"
   ]
  },
  {
   "cell_type": "code",
   "execution_count": 98,
   "metadata": {},
   "outputs": [
    {
     "data": {
      "text/html": [
       "<style type=\"text/css\">\n",
       "#T_83a51_row10_col1 {\n",
       "  background-color: lightgreen;\n",
       "}\n",
       "</style>\n",
       "<table id=\"T_83a51\">\n",
       "  <thead>\n",
       "    <tr>\n",
       "      <th class=\"blank level0\" >&nbsp;</th>\n",
       "      <th id=\"T_83a51_level0_col0\" class=\"col_heading level0 col0\" >Description</th>\n",
       "      <th id=\"T_83a51_level0_col1\" class=\"col_heading level0 col1\" >Value</th>\n",
       "    </tr>\n",
       "  </thead>\n",
       "  <tbody>\n",
       "    <tr>\n",
       "      <th id=\"T_83a51_level0_row0\" class=\"row_heading level0 row0\" >0</th>\n",
       "      <td id=\"T_83a51_row0_col0\" class=\"data row0 col0\" >Session id</td>\n",
       "      <td id=\"T_83a51_row0_col1\" class=\"data row0 col1\" >4332</td>\n",
       "    </tr>\n",
       "    <tr>\n",
       "      <th id=\"T_83a51_level0_row1\" class=\"row_heading level0 row1\" >1</th>\n",
       "      <td id=\"T_83a51_row1_col0\" class=\"data row1 col0\" >Target</td>\n",
       "      <td id=\"T_83a51_row1_col1\" class=\"data row1 col1\" >Selic</td>\n",
       "    </tr>\n",
       "    <tr>\n",
       "      <th id=\"T_83a51_level0_row2\" class=\"row_heading level0 row2\" >2</th>\n",
       "      <td id=\"T_83a51_row2_col0\" class=\"data row2 col0\" >Target type</td>\n",
       "      <td id=\"T_83a51_row2_col1\" class=\"data row2 col1\" >Regression</td>\n",
       "    </tr>\n",
       "    <tr>\n",
       "      <th id=\"T_83a51_level0_row3\" class=\"row_heading level0 row3\" >3</th>\n",
       "      <td id=\"T_83a51_row3_col0\" class=\"data row3 col0\" >Original data shape</td>\n",
       "      <td id=\"T_83a51_row3_col1\" class=\"data row3 col1\" >(2557, 8)</td>\n",
       "    </tr>\n",
       "    <tr>\n",
       "      <th id=\"T_83a51_level0_row4\" class=\"row_heading level0 row4\" >4</th>\n",
       "      <td id=\"T_83a51_row4_col0\" class=\"data row4 col0\" >Transformed data shape</td>\n",
       "      <td id=\"T_83a51_row4_col1\" class=\"data row4 col1\" >(2557, 10)</td>\n",
       "    </tr>\n",
       "    <tr>\n",
       "      <th id=\"T_83a51_level0_row5\" class=\"row_heading level0 row5\" >5</th>\n",
       "      <td id=\"T_83a51_row5_col0\" class=\"data row5 col0\" >Transformed train set shape</td>\n",
       "      <td id=\"T_83a51_row5_col1\" class=\"data row5 col1\" >(1789, 10)</td>\n",
       "    </tr>\n",
       "    <tr>\n",
       "      <th id=\"T_83a51_level0_row6\" class=\"row_heading level0 row6\" >6</th>\n",
       "      <td id=\"T_83a51_row6_col0\" class=\"data row6 col0\" >Transformed test set shape</td>\n",
       "      <td id=\"T_83a51_row6_col1\" class=\"data row6 col1\" >(768, 10)</td>\n",
       "    </tr>\n",
       "    <tr>\n",
       "      <th id=\"T_83a51_level0_row7\" class=\"row_heading level0 row7\" >7</th>\n",
       "      <td id=\"T_83a51_row7_col0\" class=\"data row7 col0\" >Numeric features</td>\n",
       "      <td id=\"T_83a51_row7_col1\" class=\"data row7 col1\" >6</td>\n",
       "    </tr>\n",
       "    <tr>\n",
       "      <th id=\"T_83a51_level0_row8\" class=\"row_heading level0 row8\" >8</th>\n",
       "      <td id=\"T_83a51_row8_col0\" class=\"data row8 col0\" >Date features</td>\n",
       "      <td id=\"T_83a51_row8_col1\" class=\"data row8 col1\" >1</td>\n",
       "    </tr>\n",
       "    <tr>\n",
       "      <th id=\"T_83a51_level0_row9\" class=\"row_heading level0 row9\" >9</th>\n",
       "      <td id=\"T_83a51_row9_col0\" class=\"data row9 col0\" >Rows with missing values</td>\n",
       "      <td id=\"T_83a51_row9_col1\" class=\"data row9 col1\" >0.8%</td>\n",
       "    </tr>\n",
       "    <tr>\n",
       "      <th id=\"T_83a51_level0_row10\" class=\"row_heading level0 row10\" >10</th>\n",
       "      <td id=\"T_83a51_row10_col0\" class=\"data row10 col0\" >Preprocess</td>\n",
       "      <td id=\"T_83a51_row10_col1\" class=\"data row10 col1\" >True</td>\n",
       "    </tr>\n",
       "    <tr>\n",
       "      <th id=\"T_83a51_level0_row11\" class=\"row_heading level0 row11\" >11</th>\n",
       "      <td id=\"T_83a51_row11_col0\" class=\"data row11 col0\" >Imputation type</td>\n",
       "      <td id=\"T_83a51_row11_col1\" class=\"data row11 col1\" >simple</td>\n",
       "    </tr>\n",
       "    <tr>\n",
       "      <th id=\"T_83a51_level0_row12\" class=\"row_heading level0 row12\" >12</th>\n",
       "      <td id=\"T_83a51_row12_col0\" class=\"data row12 col0\" >Numeric imputation</td>\n",
       "      <td id=\"T_83a51_row12_col1\" class=\"data row12 col1\" >mean</td>\n",
       "    </tr>\n",
       "    <tr>\n",
       "      <th id=\"T_83a51_level0_row13\" class=\"row_heading level0 row13\" >13</th>\n",
       "      <td id=\"T_83a51_row13_col0\" class=\"data row13 col0\" >Categorical imputation</td>\n",
       "      <td id=\"T_83a51_row13_col1\" class=\"data row13 col1\" >mode</td>\n",
       "    </tr>\n",
       "    <tr>\n",
       "      <th id=\"T_83a51_level0_row14\" class=\"row_heading level0 row14\" >14</th>\n",
       "      <td id=\"T_83a51_row14_col0\" class=\"data row14 col0\" >Fold Generator</td>\n",
       "      <td id=\"T_83a51_row14_col1\" class=\"data row14 col1\" >KFold</td>\n",
       "    </tr>\n",
       "    <tr>\n",
       "      <th id=\"T_83a51_level0_row15\" class=\"row_heading level0 row15\" >15</th>\n",
       "      <td id=\"T_83a51_row15_col0\" class=\"data row15 col0\" >Fold Number</td>\n",
       "      <td id=\"T_83a51_row15_col1\" class=\"data row15 col1\" >10</td>\n",
       "    </tr>\n",
       "    <tr>\n",
       "      <th id=\"T_83a51_level0_row16\" class=\"row_heading level0 row16\" >16</th>\n",
       "      <td id=\"T_83a51_row16_col0\" class=\"data row16 col0\" >CPU Jobs</td>\n",
       "      <td id=\"T_83a51_row16_col1\" class=\"data row16 col1\" >-1</td>\n",
       "    </tr>\n",
       "    <tr>\n",
       "      <th id=\"T_83a51_level0_row17\" class=\"row_heading level0 row17\" >17</th>\n",
       "      <td id=\"T_83a51_row17_col0\" class=\"data row17 col0\" >Use GPU</td>\n",
       "      <td id=\"T_83a51_row17_col1\" class=\"data row17 col1\" >False</td>\n",
       "    </tr>\n",
       "    <tr>\n",
       "      <th id=\"T_83a51_level0_row18\" class=\"row_heading level0 row18\" >18</th>\n",
       "      <td id=\"T_83a51_row18_col0\" class=\"data row18 col0\" >Log Experiment</td>\n",
       "      <td id=\"T_83a51_row18_col1\" class=\"data row18 col1\" >False</td>\n",
       "    </tr>\n",
       "    <tr>\n",
       "      <th id=\"T_83a51_level0_row19\" class=\"row_heading level0 row19\" >19</th>\n",
       "      <td id=\"T_83a51_row19_col0\" class=\"data row19 col0\" >Experiment Name</td>\n",
       "      <td id=\"T_83a51_row19_col1\" class=\"data row19 col1\" >reg-default-name</td>\n",
       "    </tr>\n",
       "    <tr>\n",
       "      <th id=\"T_83a51_level0_row20\" class=\"row_heading level0 row20\" >20</th>\n",
       "      <td id=\"T_83a51_row20_col0\" class=\"data row20 col0\" >USI</td>\n",
       "      <td id=\"T_83a51_row20_col1\" class=\"data row20 col1\" >8e28</td>\n",
       "    </tr>\n",
       "  </tbody>\n",
       "</table>\n"
      ],
      "text/plain": [
       "<pandas.io.formats.style.Styler at 0x12b3ca7ee10>"
      ]
     },
     "metadata": {},
     "output_type": "display_data"
    },
    {
     "data": {
      "text/html": [],
      "text/plain": [
       "<IPython.core.display.HTML object>"
      ]
     },
     "metadata": {},
     "output_type": "display_data"
    },
    {
     "data": {
      "text/html": [
       "<style type=\"text/css\">\n",
       "#T_64e56 th {\n",
       "  text-align: left;\n",
       "}\n",
       "#T_64e56_row0_col0, #T_64e56_row0_col1, #T_64e56_row0_col6, #T_64e56_row1_col0, #T_64e56_row1_col1, #T_64e56_row1_col2, #T_64e56_row1_col3, #T_64e56_row1_col4, #T_64e56_row1_col5, #T_64e56_row1_col6, #T_64e56_row2_col0, #T_64e56_row2_col1, #T_64e56_row2_col2, #T_64e56_row2_col3, #T_64e56_row2_col4, #T_64e56_row2_col5, #T_64e56_row2_col6, #T_64e56_row3_col0, #T_64e56_row3_col1, #T_64e56_row3_col2, #T_64e56_row3_col3, #T_64e56_row3_col4, #T_64e56_row3_col5, #T_64e56_row3_col6, #T_64e56_row4_col0, #T_64e56_row4_col2, #T_64e56_row4_col3, #T_64e56_row4_col4, #T_64e56_row4_col5, #T_64e56_row5_col0, #T_64e56_row5_col1, #T_64e56_row5_col2, #T_64e56_row5_col3, #T_64e56_row5_col4, #T_64e56_row5_col5, #T_64e56_row5_col6, #T_64e56_row6_col0, #T_64e56_row6_col1, #T_64e56_row6_col2, #T_64e56_row6_col3, #T_64e56_row6_col4, #T_64e56_row6_col5, #T_64e56_row6_col6, #T_64e56_row7_col0, #T_64e56_row7_col1, #T_64e56_row7_col2, #T_64e56_row7_col3, #T_64e56_row7_col4, #T_64e56_row7_col5, #T_64e56_row7_col6, #T_64e56_row8_col0, #T_64e56_row8_col1, #T_64e56_row8_col2, #T_64e56_row8_col3, #T_64e56_row8_col4, #T_64e56_row8_col5, #T_64e56_row8_col6, #T_64e56_row9_col0, #T_64e56_row9_col1, #T_64e56_row9_col2, #T_64e56_row9_col3, #T_64e56_row9_col4, #T_64e56_row9_col5, #T_64e56_row9_col6, #T_64e56_row10_col0, #T_64e56_row10_col1, #T_64e56_row10_col2, #T_64e56_row10_col3, #T_64e56_row10_col4, #T_64e56_row10_col5, #T_64e56_row10_col6, #T_64e56_row11_col0, #T_64e56_row11_col1, #T_64e56_row11_col2, #T_64e56_row11_col3, #T_64e56_row11_col4, #T_64e56_row11_col5, #T_64e56_row11_col6, #T_64e56_row12_col0, #T_64e56_row12_col1, #T_64e56_row12_col2, #T_64e56_row12_col3, #T_64e56_row12_col4, #T_64e56_row12_col5, #T_64e56_row12_col6, #T_64e56_row13_col0, #T_64e56_row13_col1, #T_64e56_row13_col2, #T_64e56_row13_col3, #T_64e56_row13_col4, #T_64e56_row13_col5, #T_64e56_row13_col6, #T_64e56_row14_col0, #T_64e56_row14_col1, #T_64e56_row14_col2, #T_64e56_row14_col3, #T_64e56_row14_col4, #T_64e56_row14_col5, #T_64e56_row14_col6, #T_64e56_row15_col0, #T_64e56_row15_col1, #T_64e56_row15_col2, #T_64e56_row15_col3, #T_64e56_row15_col4, #T_64e56_row15_col5, #T_64e56_row15_col6, #T_64e56_row16_col0, #T_64e56_row16_col1, #T_64e56_row16_col2, #T_64e56_row16_col3, #T_64e56_row16_col4, #T_64e56_row16_col5, #T_64e56_row16_col6, #T_64e56_row17_col0, #T_64e56_row17_col1, #T_64e56_row17_col2, #T_64e56_row17_col3, #T_64e56_row17_col4, #T_64e56_row17_col5, #T_64e56_row17_col6, #T_64e56_row18_col0, #T_64e56_row18_col1, #T_64e56_row18_col2, #T_64e56_row18_col3, #T_64e56_row18_col4, #T_64e56_row18_col5, #T_64e56_row18_col6 {\n",
       "  text-align: left;\n",
       "}\n",
       "#T_64e56_row0_col2, #T_64e56_row0_col3, #T_64e56_row0_col4, #T_64e56_row0_col5, #T_64e56_row4_col1, #T_64e56_row4_col6 {\n",
       "  text-align: left;\n",
       "  background-color: yellow;\n",
       "}\n",
       "#T_64e56_row0_col7, #T_64e56_row1_col7, #T_64e56_row2_col7, #T_64e56_row3_col7, #T_64e56_row4_col7, #T_64e56_row5_col7, #T_64e56_row6_col7, #T_64e56_row7_col7, #T_64e56_row8_col7, #T_64e56_row11_col7, #T_64e56_row12_col7, #T_64e56_row13_col7, #T_64e56_row14_col7, #T_64e56_row16_col7, #T_64e56_row17_col7, #T_64e56_row18_col7 {\n",
       "  text-align: left;\n",
       "  background-color: lightgrey;\n",
       "}\n",
       "#T_64e56_row9_col7, #T_64e56_row10_col7, #T_64e56_row15_col7 {\n",
       "  text-align: left;\n",
       "  background-color: yellow;\n",
       "  background-color: lightgrey;\n",
       "}\n",
       "</style>\n",
       "<table id=\"T_64e56\">\n",
       "  <thead>\n",
       "    <tr>\n",
       "      <th class=\"blank level0\" >&nbsp;</th>\n",
       "      <th id=\"T_64e56_level0_col0\" class=\"col_heading level0 col0\" >Model</th>\n",
       "      <th id=\"T_64e56_level0_col1\" class=\"col_heading level0 col1\" >MAE</th>\n",
       "      <th id=\"T_64e56_level0_col2\" class=\"col_heading level0 col2\" >MSE</th>\n",
       "      <th id=\"T_64e56_level0_col3\" class=\"col_heading level0 col3\" >RMSE</th>\n",
       "      <th id=\"T_64e56_level0_col4\" class=\"col_heading level0 col4\" >R2</th>\n",
       "      <th id=\"T_64e56_level0_col5\" class=\"col_heading level0 col5\" >RMSLE</th>\n",
       "      <th id=\"T_64e56_level0_col6\" class=\"col_heading level0 col6\" >MAPE</th>\n",
       "      <th id=\"T_64e56_level0_col7\" class=\"col_heading level0 col7\" >TT (Sec)</th>\n",
       "    </tr>\n",
       "  </thead>\n",
       "  <tbody>\n",
       "    <tr>\n",
       "      <th id=\"T_64e56_level0_row0\" class=\"row_heading level0 row0\" >et</th>\n",
       "      <td id=\"T_64e56_row0_col0\" class=\"data row0 col0\" >Extra Trees Regressor</td>\n",
       "      <td id=\"T_64e56_row0_col1\" class=\"data row0 col1\" >0.0273</td>\n",
       "      <td id=\"T_64e56_row0_col2\" class=\"data row0 col2\" >0.0126</td>\n",
       "      <td id=\"T_64e56_row0_col3\" class=\"data row0 col3\" >0.1080</td>\n",
       "      <td id=\"T_64e56_row0_col4\" class=\"data row0 col4\" >0.9992</td>\n",
       "      <td id=\"T_64e56_row0_col5\" class=\"data row0 col5\" >0.0133</td>\n",
       "      <td id=\"T_64e56_row0_col6\" class=\"data row0 col6\" >0.0039</td>\n",
       "      <td id=\"T_64e56_row0_col7\" class=\"data row0 col7\" >0.0840</td>\n",
       "    </tr>\n",
       "    <tr>\n",
       "      <th id=\"T_64e56_level0_row1\" class=\"row_heading level0 row1\" >rf</th>\n",
       "      <td id=\"T_64e56_row1_col0\" class=\"data row1 col0\" >Random Forest Regressor</td>\n",
       "      <td id=\"T_64e56_row1_col1\" class=\"data row1 col1\" >0.0374</td>\n",
       "      <td id=\"T_64e56_row1_col2\" class=\"data row1 col2\" >0.0164</td>\n",
       "      <td id=\"T_64e56_row1_col3\" class=\"data row1 col3\" >0.1231</td>\n",
       "      <td id=\"T_64e56_row1_col4\" class=\"data row1 col4\" >0.9990</td>\n",
       "      <td id=\"T_64e56_row1_col5\" class=\"data row1 col5\" >0.0163</td>\n",
       "      <td id=\"T_64e56_row1_col6\" class=\"data row1 col6\" >0.0058</td>\n",
       "      <td id=\"T_64e56_row1_col7\" class=\"data row1 col7\" >0.1440</td>\n",
       "    </tr>\n",
       "    <tr>\n",
       "      <th id=\"T_64e56_level0_row2\" class=\"row_heading level0 row2\" >xgboost</th>\n",
       "      <td id=\"T_64e56_row2_col0\" class=\"data row2 col0\" >Extreme Gradient Boosting</td>\n",
       "      <td id=\"T_64e56_row2_col1\" class=\"data row2 col1\" >0.0534</td>\n",
       "      <td id=\"T_64e56_row2_col2\" class=\"data row2 col2\" >0.0182</td>\n",
       "      <td id=\"T_64e56_row2_col3\" class=\"data row2 col3\" >0.1282</td>\n",
       "      <td id=\"T_64e56_row2_col4\" class=\"data row2 col4\" >0.9989</td>\n",
       "      <td id=\"T_64e56_row2_col5\" class=\"data row2 col5\" >0.0179</td>\n",
       "      <td id=\"T_64e56_row2_col6\" class=\"data row2 col6\" >0.0084</td>\n",
       "      <td id=\"T_64e56_row2_col7\" class=\"data row2 col7\" >0.0740</td>\n",
       "    </tr>\n",
       "    <tr>\n",
       "      <th id=\"T_64e56_level0_row3\" class=\"row_heading level0 row3\" >lightgbm</th>\n",
       "      <td id=\"T_64e56_row3_col0\" class=\"data row3 col0\" >Light Gradient Boosting Machine</td>\n",
       "      <td id=\"T_64e56_row3_col1\" class=\"data row3 col1\" >0.0746</td>\n",
       "      <td id=\"T_64e56_row3_col2\" class=\"data row3 col2\" >0.0198</td>\n",
       "      <td id=\"T_64e56_row3_col3\" class=\"data row3 col3\" >0.1386</td>\n",
       "      <td id=\"T_64e56_row3_col4\" class=\"data row3 col4\" >0.9988</td>\n",
       "      <td id=\"T_64e56_row3_col5\" class=\"data row3 col5\" >0.0194</td>\n",
       "      <td id=\"T_64e56_row3_col6\" class=\"data row3 col6\" >0.0117</td>\n",
       "      <td id=\"T_64e56_row3_col7\" class=\"data row3 col7\" >0.1250</td>\n",
       "    </tr>\n",
       "    <tr>\n",
       "      <th id=\"T_64e56_level0_row4\" class=\"row_heading level0 row4\" >dt</th>\n",
       "      <td id=\"T_64e56_row4_col0\" class=\"data row4 col0\" >Decision Tree Regressor</td>\n",
       "      <td id=\"T_64e56_row4_col1\" class=\"data row4 col1\" >0.0257</td>\n",
       "      <td id=\"T_64e56_row4_col2\" class=\"data row4 col2\" >0.0227</td>\n",
       "      <td id=\"T_64e56_row4_col3\" class=\"data row4 col3\" >0.1466</td>\n",
       "      <td id=\"T_64e56_row4_col4\" class=\"data row4 col4\" >0.9986</td>\n",
       "      <td id=\"T_64e56_row4_col5\" class=\"data row4 col5\" >0.0193</td>\n",
       "      <td id=\"T_64e56_row4_col6\" class=\"data row4 col6\" >0.0038</td>\n",
       "      <td id=\"T_64e56_row4_col7\" class=\"data row4 col7\" >0.0170</td>\n",
       "    </tr>\n",
       "    <tr>\n",
       "      <th id=\"T_64e56_level0_row5\" class=\"row_heading level0 row5\" >gbr</th>\n",
       "      <td id=\"T_64e56_row5_col0\" class=\"data row5 col0\" >Gradient Boosting Regressor</td>\n",
       "      <td id=\"T_64e56_row5_col1\" class=\"data row5 col1\" >0.1299</td>\n",
       "      <td id=\"T_64e56_row5_col2\" class=\"data row5 col2\" >0.0436</td>\n",
       "      <td id=\"T_64e56_row5_col3\" class=\"data row5 col3\" >0.2072</td>\n",
       "      <td id=\"T_64e56_row5_col4\" class=\"data row5 col4\" >0.9974</td>\n",
       "      <td id=\"T_64e56_row5_col5\" class=\"data row5 col5\" >0.0284</td>\n",
       "      <td id=\"T_64e56_row5_col6\" class=\"data row5 col6\" >0.0200</td>\n",
       "      <td id=\"T_64e56_row5_col7\" class=\"data row5 col7\" >0.0930</td>\n",
       "    </tr>\n",
       "    <tr>\n",
       "      <th id=\"T_64e56_level0_row6\" class=\"row_heading level0 row6\" >ada</th>\n",
       "      <td id=\"T_64e56_row6_col0\" class=\"data row6 col0\" >AdaBoost Regressor</td>\n",
       "      <td id=\"T_64e56_row6_col1\" class=\"data row6 col1\" >0.5399</td>\n",
       "      <td id=\"T_64e56_row6_col2\" class=\"data row6 col2\" >0.3912</td>\n",
       "      <td id=\"T_64e56_row6_col3\" class=\"data row6 col3\" >0.6251</td>\n",
       "      <td id=\"T_64e56_row6_col4\" class=\"data row6 col4\" >0.9764</td>\n",
       "      <td id=\"T_64e56_row6_col5\" class=\"data row6 col5\" >0.0910</td>\n",
       "      <td id=\"T_64e56_row6_col6\" class=\"data row6 col6\" >0.0856</td>\n",
       "      <td id=\"T_64e56_row6_col7\" class=\"data row6 col7\" >0.0670</td>\n",
       "    </tr>\n",
       "    <tr>\n",
       "      <th id=\"T_64e56_level0_row7\" class=\"row_heading level0 row7\" >knn</th>\n",
       "      <td id=\"T_64e56_row7_col0\" class=\"data row7 col0\" >K Neighbors Regressor</td>\n",
       "      <td id=\"T_64e56_row7_col1\" class=\"data row7 col1\" >0.2884</td>\n",
       "      <td id=\"T_64e56_row7_col2\" class=\"data row7 col2\" >0.3958</td>\n",
       "      <td id=\"T_64e56_row7_col3\" class=\"data row7 col3\" >0.6188</td>\n",
       "      <td id=\"T_64e56_row7_col4\" class=\"data row7 col4\" >0.9763</td>\n",
       "      <td id=\"T_64e56_row7_col5\" class=\"data row7 col5\" >0.0820</td>\n",
       "      <td id=\"T_64e56_row7_col6\" class=\"data row7 col6\" >0.0454</td>\n",
       "      <td id=\"T_64e56_row7_col7\" class=\"data row7 col7\" >0.0220</td>\n",
       "    </tr>\n",
       "    <tr>\n",
       "      <th id=\"T_64e56_level0_row8\" class=\"row_heading level0 row8\" >lar</th>\n",
       "      <td id=\"T_64e56_row8_col0\" class=\"data row8 col0\" >Least Angle Regression</td>\n",
       "      <td id=\"T_64e56_row8_col1\" class=\"data row8 col1\" >1.4748</td>\n",
       "      <td id=\"T_64e56_row8_col2\" class=\"data row8 col2\" >3.4349</td>\n",
       "      <td id=\"T_64e56_row8_col3\" class=\"data row8 col3\" >1.8508</td>\n",
       "      <td id=\"T_64e56_row8_col4\" class=\"data row8 col4\" >0.7935</td>\n",
       "      <td id=\"T_64e56_row8_col5\" class=\"data row8 col5\" >0.2351</td>\n",
       "      <td id=\"T_64e56_row8_col6\" class=\"data row8 col6\" >0.2300</td>\n",
       "      <td id=\"T_64e56_row8_col7\" class=\"data row8 col7\" >0.0180</td>\n",
       "    </tr>\n",
       "    <tr>\n",
       "      <th id=\"T_64e56_level0_row9\" class=\"row_heading level0 row9\" >br</th>\n",
       "      <td id=\"T_64e56_row9_col0\" class=\"data row9 col0\" >Bayesian Ridge</td>\n",
       "      <td id=\"T_64e56_row9_col1\" class=\"data row9 col1\" >1.4752</td>\n",
       "      <td id=\"T_64e56_row9_col2\" class=\"data row9 col2\" >3.4343</td>\n",
       "      <td id=\"T_64e56_row9_col3\" class=\"data row9 col3\" >1.8506</td>\n",
       "      <td id=\"T_64e56_row9_col4\" class=\"data row9 col4\" >0.7935</td>\n",
       "      <td id=\"T_64e56_row9_col5\" class=\"data row9 col5\" >0.2353</td>\n",
       "      <td id=\"T_64e56_row9_col6\" class=\"data row9 col6\" >0.2304</td>\n",
       "      <td id=\"T_64e56_row9_col7\" class=\"data row9 col7\" >0.0150</td>\n",
       "    </tr>\n",
       "    <tr>\n",
       "      <th id=\"T_64e56_level0_row10\" class=\"row_heading level0 row10\" >ridge</th>\n",
       "      <td id=\"T_64e56_row10_col0\" class=\"data row10 col0\" >Ridge Regression</td>\n",
       "      <td id=\"T_64e56_row10_col1\" class=\"data row10 col1\" >1.4748</td>\n",
       "      <td id=\"T_64e56_row10_col2\" class=\"data row10 col2\" >3.4339</td>\n",
       "      <td id=\"T_64e56_row10_col3\" class=\"data row10 col3\" >1.8505</td>\n",
       "      <td id=\"T_64e56_row10_col4\" class=\"data row10 col4\" >0.7935</td>\n",
       "      <td id=\"T_64e56_row10_col5\" class=\"data row10 col5\" >0.2352</td>\n",
       "      <td id=\"T_64e56_row10_col6\" class=\"data row10 col6\" >0.2301</td>\n",
       "      <td id=\"T_64e56_row10_col7\" class=\"data row10 col7\" >0.0150</td>\n",
       "    </tr>\n",
       "    <tr>\n",
       "      <th id=\"T_64e56_level0_row11\" class=\"row_heading level0 row11\" >lr</th>\n",
       "      <td id=\"T_64e56_row11_col0\" class=\"data row11 col0\" >Linear Regression</td>\n",
       "      <td id=\"T_64e56_row11_col1\" class=\"data row11 col1\" >1.4748</td>\n",
       "      <td id=\"T_64e56_row11_col2\" class=\"data row11 col2\" >3.4348</td>\n",
       "      <td id=\"T_64e56_row11_col3\" class=\"data row11 col3\" >1.8508</td>\n",
       "      <td id=\"T_64e56_row11_col4\" class=\"data row11 col4\" >0.7935</td>\n",
       "      <td id=\"T_64e56_row11_col5\" class=\"data row11 col5\" >0.2351</td>\n",
       "      <td id=\"T_64e56_row11_col6\" class=\"data row11 col6\" >0.2300</td>\n",
       "      <td id=\"T_64e56_row11_col7\" class=\"data row11 col7\" >1.1310</td>\n",
       "    </tr>\n",
       "    <tr>\n",
       "      <th id=\"T_64e56_level0_row12\" class=\"row_heading level0 row12\" >huber</th>\n",
       "      <td id=\"T_64e56_row12_col0\" class=\"data row12 col0\" >Huber Regressor</td>\n",
       "      <td id=\"T_64e56_row12_col1\" class=\"data row12 col1\" >1.5781</td>\n",
       "      <td id=\"T_64e56_row12_col2\" class=\"data row12 col2\" >4.5393</td>\n",
       "      <td id=\"T_64e56_row12_col3\" class=\"data row12 col3\" >2.1250</td>\n",
       "      <td id=\"T_64e56_row12_col4\" class=\"data row12 col4\" >0.7268</td>\n",
       "      <td id=\"T_64e56_row12_col5\" class=\"data row12 col5\" >0.2784</td>\n",
       "      <td id=\"T_64e56_row12_col6\" class=\"data row12 col6\" >0.2596</td>\n",
       "      <td id=\"T_64e56_row12_col7\" class=\"data row12 col7\" >0.0310</td>\n",
       "    </tr>\n",
       "    <tr>\n",
       "      <th id=\"T_64e56_level0_row13\" class=\"row_heading level0 row13\" >en</th>\n",
       "      <td id=\"T_64e56_row13_col0\" class=\"data row13 col0\" >Elastic Net</td>\n",
       "      <td id=\"T_64e56_row13_col1\" class=\"data row13 col1\" >1.8663</td>\n",
       "      <td id=\"T_64e56_row13_col2\" class=\"data row13 col2\" >5.0494</td>\n",
       "      <td id=\"T_64e56_row13_col3\" class=\"data row13 col3\" >2.2434</td>\n",
       "      <td id=\"T_64e56_row13_col4\" class=\"data row13 col4\" >0.6967</td>\n",
       "      <td id=\"T_64e56_row13_col5\" class=\"data row13 col5\" >0.3075</td>\n",
       "      <td id=\"T_64e56_row13_col6\" class=\"data row13 col6\" >0.3340</td>\n",
       "      <td id=\"T_64e56_row13_col7\" class=\"data row13 col7\" >0.0170</td>\n",
       "    </tr>\n",
       "    <tr>\n",
       "      <th id=\"T_64e56_level0_row14\" class=\"row_heading level0 row14\" >lasso</th>\n",
       "      <td id=\"T_64e56_row14_col0\" class=\"data row14 col0\" >Lasso Regression</td>\n",
       "      <td id=\"T_64e56_row14_col1\" class=\"data row14 col1\" >2.0433</td>\n",
       "      <td id=\"T_64e56_row14_col2\" class=\"data row14 col2\" >6.0117</td>\n",
       "      <td id=\"T_64e56_row14_col3\" class=\"data row14 col3\" >2.4481</td>\n",
       "      <td id=\"T_64e56_row14_col4\" class=\"data row14 col4\" >0.6388</td>\n",
       "      <td id=\"T_64e56_row14_col5\" class=\"data row14 col5\" >0.3307</td>\n",
       "      <td id=\"T_64e56_row14_col6\" class=\"data row14 col6\" >0.3658</td>\n",
       "      <td id=\"T_64e56_row14_col7\" class=\"data row14 col7\" >0.0180</td>\n",
       "    </tr>\n",
       "    <tr>\n",
       "      <th id=\"T_64e56_level0_row15\" class=\"row_heading level0 row15\" >llar</th>\n",
       "      <td id=\"T_64e56_row15_col0\" class=\"data row15 col0\" >Lasso Least Angle Regression</td>\n",
       "      <td id=\"T_64e56_row15_col1\" class=\"data row15 col1\" >2.0433</td>\n",
       "      <td id=\"T_64e56_row15_col2\" class=\"data row15 col2\" >6.0119</td>\n",
       "      <td id=\"T_64e56_row15_col3\" class=\"data row15 col3\" >2.4481</td>\n",
       "      <td id=\"T_64e56_row15_col4\" class=\"data row15 col4\" >0.6388</td>\n",
       "      <td id=\"T_64e56_row15_col5\" class=\"data row15 col5\" >0.3307</td>\n",
       "      <td id=\"T_64e56_row15_col6\" class=\"data row15 col6\" >0.3658</td>\n",
       "      <td id=\"T_64e56_row15_col7\" class=\"data row15 col7\" >0.0150</td>\n",
       "    </tr>\n",
       "    <tr>\n",
       "      <th id=\"T_64e56_level0_row16\" class=\"row_heading level0 row16\" >omp</th>\n",
       "      <td id=\"T_64e56_row16_col0\" class=\"data row16 col0\" >Orthogonal Matching Pursuit</td>\n",
       "      <td id=\"T_64e56_row16_col1\" class=\"data row16 col1\" >2.6447</td>\n",
       "      <td id=\"T_64e56_row16_col2\" class=\"data row16 col2\" >9.7074</td>\n",
       "      <td id=\"T_64e56_row16_col3\" class=\"data row16 col3\" >3.0972</td>\n",
       "      <td id=\"T_64e56_row16_col4\" class=\"data row16 col4\" >0.4151</td>\n",
       "      <td id=\"T_64e56_row16_col5\" class=\"data row16 col5\" >0.3636</td>\n",
       "      <td id=\"T_64e56_row16_col6\" class=\"data row16 col6\" >0.4148</td>\n",
       "      <td id=\"T_64e56_row16_col7\" class=\"data row16 col7\" >0.0160</td>\n",
       "    </tr>\n",
       "    <tr>\n",
       "      <th id=\"T_64e56_level0_row17\" class=\"row_heading level0 row17\" >dummy</th>\n",
       "      <td id=\"T_64e56_row17_col0\" class=\"data row17 col0\" >Dummy Regressor</td>\n",
       "      <td id=\"T_64e56_row17_col1\" class=\"data row17 col1\" >3.6765</td>\n",
       "      <td id=\"T_64e56_row17_col2\" class=\"data row17 col2\" >16.6654</td>\n",
       "      <td id=\"T_64e56_row17_col3\" class=\"data row17 col3\" >4.0806</td>\n",
       "      <td id=\"T_64e56_row17_col4\" class=\"data row17 col4\" >-0.0011</td>\n",
       "      <td id=\"T_64e56_row17_col5\" class=\"data row17 col5\" >0.5006</td>\n",
       "      <td id=\"T_64e56_row17_col6\" class=\"data row17 col6\" >0.6760</td>\n",
       "      <td id=\"T_64e56_row17_col7\" class=\"data row17 col7\" >0.0190</td>\n",
       "    </tr>\n",
       "    <tr>\n",
       "      <th id=\"T_64e56_level0_row18\" class=\"row_heading level0 row18\" >par</th>\n",
       "      <td id=\"T_64e56_row18_col0\" class=\"data row18 col0\" >Passive Aggressive Regressor</td>\n",
       "      <td id=\"T_64e56_row18_col1\" class=\"data row18 col1\" >4.8607</td>\n",
       "      <td id=\"T_64e56_row18_col2\" class=\"data row18 col2\" >37.2292</td>\n",
       "      <td id=\"T_64e56_row18_col3\" class=\"data row18 col3\" >5.9715</td>\n",
       "      <td id=\"T_64e56_row18_col4\" class=\"data row18 col4\" >-1.2241</td>\n",
       "      <td id=\"T_64e56_row18_col5\" class=\"data row18 col5\" >0.7147</td>\n",
       "      <td id=\"T_64e56_row18_col6\" class=\"data row18 col6\" >0.7898</td>\n",
       "      <td id=\"T_64e56_row18_col7\" class=\"data row18 col7\" >0.0170</td>\n",
       "    </tr>\n",
       "  </tbody>\n",
       "</table>\n"
      ],
      "text/plain": [
       "<pandas.io.formats.style.Styler at 0x12b37de2510>"
      ]
     },
     "metadata": {},
     "output_type": "display_data"
    },
    {
     "data": {
      "text/html": [],
      "text/plain": [
       "<IPython.core.display.HTML object>"
      ]
     },
     "metadata": {},
     "output_type": "display_data"
    }
   ],
   "source": [
    "from pycaret.regression import setup, compare_models\n",
    "\n",
    "setup(df, target='Selic')\n",
    "\n",
    "best_model = compare_models()"
   ]
  },
  {
   "cell_type": "markdown",
   "metadata": {},
   "source": [
    "### Extra Trees Regressor"
   ]
  },
  {
   "cell_type": "code",
   "execution_count": 99,
   "metadata": {},
   "outputs": [
    {
     "data": {
      "text/html": [
       "<div>\n",
       "<style scoped>\n",
       "    .dataframe tbody tr th:only-of-type {\n",
       "        vertical-align: middle;\n",
       "    }\n",
       "\n",
       "    .dataframe tbody tr th {\n",
       "        vertical-align: top;\n",
       "    }\n",
       "\n",
       "    .dataframe thead th {\n",
       "        text-align: right;\n",
       "    }\n",
       "</style>\n",
       "<table border=\"1\" class=\"dataframe\">\n",
       "  <thead>\n",
       "    <tr style=\"text-align: right;\">\n",
       "      <th></th>\n",
       "      <th>IPCA ocorrido</th>\n",
       "      <th>Variação Petroleo</th>\n",
       "      <th>Taxa de desocupação – desemprego</th>\n",
       "      <th>IBC-Br - atividade econômica</th>\n",
       "      <th>Selic</th>\n",
       "      <th>Taxa Americana</th>\n",
       "      <th>Var%</th>\n",
       "    </tr>\n",
       "  </thead>\n",
       "  <tbody>\n",
       "    <tr>\n",
       "      <th>0</th>\n",
       "      <td>5.91</td>\n",
       "      <td>5.34</td>\n",
       "      <td>6.3</td>\n",
       "      <td>NaN</td>\n",
       "      <td>10.0</td>\n",
       "      <td>0.09</td>\n",
       "      <td>0.0111</td>\n",
       "    </tr>\n",
       "    <tr>\n",
       "      <th>1</th>\n",
       "      <td>5.91</td>\n",
       "      <td>5.34</td>\n",
       "      <td>6.3</td>\n",
       "      <td>NaN</td>\n",
       "      <td>10.0</td>\n",
       "      <td>0.09</td>\n",
       "      <td>0.0060</td>\n",
       "    </tr>\n",
       "    <tr>\n",
       "      <th>2</th>\n",
       "      <td>5.91</td>\n",
       "      <td>5.34</td>\n",
       "      <td>6.3</td>\n",
       "      <td>NaN</td>\n",
       "      <td>10.0</td>\n",
       "      <td>0.09</td>\n",
       "      <td>0.0069</td>\n",
       "    </tr>\n",
       "    <tr>\n",
       "      <th>3</th>\n",
       "      <td>5.91</td>\n",
       "      <td>5.34</td>\n",
       "      <td>6.3</td>\n",
       "      <td>NaN</td>\n",
       "      <td>10.0</td>\n",
       "      <td>0.09</td>\n",
       "      <td>-0.0009</td>\n",
       "    </tr>\n",
       "    <tr>\n",
       "      <th>4</th>\n",
       "      <td>5.91</td>\n",
       "      <td>5.34</td>\n",
       "      <td>6.3</td>\n",
       "      <td>NaN</td>\n",
       "      <td>10.0</td>\n",
       "      <td>0.08</td>\n",
       "      <td>0.0011</td>\n",
       "    </tr>\n",
       "  </tbody>\n",
       "</table>\n",
       "</div>"
      ],
      "text/plain": [
       "   IPCA ocorrido  Variação Petroleo  Taxa de desocupação – desemprego  \\\n",
       "0           5.91               5.34                               6.3   \n",
       "1           5.91               5.34                               6.3   \n",
       "2           5.91               5.34                               6.3   \n",
       "3           5.91               5.34                               6.3   \n",
       "4           5.91               5.34                               6.3   \n",
       "\n",
       "   IBC-Br - atividade econômica  Selic  Taxa Americana    Var%  \n",
       "0                           NaN   10.0            0.09  0.0111  \n",
       "1                           NaN   10.0            0.09  0.0060  \n",
       "2                           NaN   10.0            0.09  0.0069  \n",
       "3                           NaN   10.0            0.09 -0.0009  \n",
       "4                           NaN   10.0            0.08  0.0011  "
      ]
     },
     "execution_count": 99,
     "metadata": {},
     "output_type": "execute_result"
    }
   ],
   "source": [
    "df.drop(['DateTime'], axis=1, inplace=True)\n",
    "df.head()"
   ]
  },
  {
   "cell_type": "code",
   "execution_count": 100,
   "metadata": {},
   "outputs": [
    {
     "name": "stdout",
     "output_type": "stream",
     "text": [
      "Fitting 3 folds for each of 288 candidates, totalling 864 fits\n",
      "Melhores parâmetros:  {'bootstrap': False, 'max_depth': None, 'min_samples_leaf': 1, 'min_samples_split': 10, 'n_estimators': 200}\n"
     ]
    }
   ],
   "source": [
    "from sklearn.model_selection import GridSearchCV\n",
    "from sklearn.ensemble import ExtraTreesRegressor\n",
    "from sklearn.model_selection import train_test_split\n",
    "from sklearn.impute import SimpleImputer\n",
    "\n",
    "\n",
    "imputer = SimpleImputer(strategy='mean')  \n",
    "df_imputed = pd.DataFrame(imputer.fit_transform(df), columns=df.columns)\n",
    "\n",
    "X = df_imputed.drop('Selic', axis=1)\n",
    "y = df_imputed['Selic']\n",
    "\n",
    "param_grid = {\n",
    "    'n_estimators': [50, 100, 200, 500],\n",
    "    'max_depth': [None, 10, 20, 30],\n",
    "    'min_samples_split': [2, 5, 10],\n",
    "    'min_samples_leaf': [1, 2, 4],\n",
    "    'bootstrap': [True, False]\n",
    "}\n",
    "\n",
    "X_train, X_test, y_train, y_test = train_test_split(X, y, test_size=0.4, random_state=42)\n",
    "\n",
    "et = ExtraTreesRegressor(random_state=42)\n",
    "\n",
    "grid_search = GridSearchCV(estimator=et, param_grid=param_grid, cv=3, n_jobs=-1, verbose=2)\n",
    "grid_search.fit(X_train, y_train)\n",
    "\n",
    "best_params = grid_search.best_params_\n",
    "\n",
    "print(\"Melhores parâmetros: \", best_params)"
   ]
  },
  {
   "cell_type": "code",
   "execution_count": 101,
   "metadata": {},
   "outputs": [
    {
     "name": "stdout",
     "output_type": "stream",
     "text": [
      "Acurácia da validação cruzada: 0.9982735573416356 (+/- 0.0011478798216531607)\n",
      "Acurácia nos dados de teste: 0.9980979593087178\n",
      "Decisão final:  [13.09615385]\n"
     ]
    }
   ],
   "source": [
    "from sklearn.ensemble import ExtraTreesRegressor\n",
    "from sklearn.model_selection import cross_val_score\n",
    "from sklearn.feature_selection import SelectFromModel\n",
    "\n",
    "best_params = {'bootstrap': False, 'max_depth': None, 'min_samples_leaf': 1, 'min_samples_split': 10, 'n_estimators': 200}\n",
    "\n",
    "etr = ExtraTreesRegressor(**best_params, random_state=42)\n",
    "\n",
    "selector = SelectFromModel(estimator=etr).fit(X_train, y_train)\n",
    "X_train_selected = selector.transform(X_train)\n",
    "X_test_selected = selector.transform(X_test)\n",
    "\n",
    "etr.fit(X_train_selected, y_train)\n",
    "\n",
    "scores = cross_val_score(etr, X_train_selected, y_train, cv=5) \n",
    "print(f\"Acurácia da validação cruzada: {scores.mean()} (+/- {scores.std() * 2})\")\n",
    "\n",
    "y_pred = etr.predict(X_test_selected)\n",
    "\n",
    "test_score = etr.score(X_test_selected, y_test)\n",
    "print(f\"Acurácia nos dados de teste: {test_score}\")\n",
    "\n",
    "final_decision = etr.predict(X_test_selected[-1:])\n",
    "print(\"Decisão final: \", final_decision)"
   ]
  },
  {
   "cell_type": "code",
   "execution_count": 102,
   "metadata": {},
   "outputs": [
    {
     "name": "stdout",
     "output_type": "stream",
     "text": [
      "Erro Quadrático Médio (MSE):  0.03162223196126826\n"
     ]
    }
   ],
   "source": [
    "from sklearn.ensemble import ExtraTreesRegressor\n",
    "from sklearn.metrics import mean_squared_error\n",
    "\n",
    "et_model = ExtraTreesRegressor(\n",
    "    bootstrap=False,\n",
    "    max_depth=None,\n",
    "    min_samples_leaf=2,\n",
    "    min_samples_split=10,\n",
    "    n_estimators=200,\n",
    "    random_state=42  \n",
    ")\n",
    "\n",
    "et_model.fit(X_train, y_train)\n",
    "\n",
    "predictions = et_model.predict(X_test)\n",
    "\n",
    "mse = mean_squared_error(y_test, predictions)\n",
    "\n",
    "print(\"Erro Quadrático Médio (MSE): \", mse)"
   ]
  },
  {
   "cell_type": "code",
   "execution_count": 103,
   "metadata": {},
   "outputs": [
    {
     "data": {
      "image/png": "[encoded data removed]",
      "text/plain": [
       "<Figure size 800x550 with 1 Axes>"
      ]
     },
     "metadata": {},
     "output_type": "display_data"
    }
   ],
   "source": [
    "et_model = ExtraTreesRegressor(n_estimators=200, random_state=42)\n",
    "et_model.fit(X_train, y_train)\n",
    "\n",
    "feat_importances = pd.Series(et_model.feature_importances_, index=X_train.columns)\n",
    "feat_importances.nlargest(10).plot(kind='barh')\n",
    "plt.show()"
   ]
  },
  {
   "cell_type": "code",
   "execution_count": 104,
   "metadata": {},
   "outputs": [
    {
     "data": {
      "text/html": [
       "<div>\n",
       "<style scoped>\n",
       "    .dataframe tbody tr th:only-of-type {\n",
       "        vertical-align: middle;\n",
       "    }\n",
       "\n",
       "    .dataframe tbody tr th {\n",
       "        vertical-align: top;\n",
       "    }\n",
       "\n",
       "    .dataframe thead th {\n",
       "        text-align: right;\n",
       "    }\n",
       "</style>\n",
       "<table border=\"1\" class=\"dataframe\">\n",
       "  <thead>\n",
       "    <tr style=\"text-align: right;\">\n",
       "      <th></th>\n",
       "      <th>Real Values</th>\n",
       "      <th>Predictions</th>\n",
       "    </tr>\n",
       "  </thead>\n",
       "  <tbody>\n",
       "    <tr>\n",
       "      <th>2523</th>\n",
       "      <td>13.25</td>\n",
       "      <td>13.25000</td>\n",
       "    </tr>\n",
       "    <tr>\n",
       "      <th>1750</th>\n",
       "      <td>2.00</td>\n",
       "      <td>2.00000</td>\n",
       "    </tr>\n",
       "    <tr>\n",
       "      <th>2051</th>\n",
       "      <td>6.25</td>\n",
       "      <td>6.25000</td>\n",
       "    </tr>\n",
       "    <tr>\n",
       "      <th>393</th>\n",
       "      <td>13.75</td>\n",
       "      <td>13.75000</td>\n",
       "    </tr>\n",
       "    <tr>\n",
       "      <th>1472</th>\n",
       "      <td>6.50</td>\n",
       "      <td>6.50000</td>\n",
       "    </tr>\n",
       "    <tr>\n",
       "      <th>...</th>\n",
       "      <td>...</td>\n",
       "      <td>...</td>\n",
       "    </tr>\n",
       "    <tr>\n",
       "      <th>1703</th>\n",
       "      <td>3.00</td>\n",
       "      <td>2.58375</td>\n",
       "    </tr>\n",
       "    <tr>\n",
       "      <th>585</th>\n",
       "      <td>14.25</td>\n",
       "      <td>14.25000</td>\n",
       "    </tr>\n",
       "    <tr>\n",
       "      <th>1263</th>\n",
       "      <td>6.50</td>\n",
       "      <td>6.50000</td>\n",
       "    </tr>\n",
       "    <tr>\n",
       "      <th>1151</th>\n",
       "      <td>6.50</td>\n",
       "      <td>6.50000</td>\n",
       "    </tr>\n",
       "    <tr>\n",
       "      <th>2550</th>\n",
       "      <td>12.75</td>\n",
       "      <td>13.25000</td>\n",
       "    </tr>\n",
       "  </tbody>\n",
       "</table>\n",
       "<p>1023 rows × 2 columns</p>\n",
       "</div>"
      ],
      "text/plain": [
       "      Real Values  Predictions\n",
       "2523        13.25     13.25000\n",
       "1750         2.00      2.00000\n",
       "2051         6.25      6.25000\n",
       "393         13.75     13.75000\n",
       "1472         6.50      6.50000\n",
       "...           ...          ...\n",
       "1703         3.00      2.58375\n",
       "585         14.25     14.25000\n",
       "1263         6.50      6.50000\n",
       "1151         6.50      6.50000\n",
       "2550        12.75     13.25000\n",
       "\n",
       "[1023 rows x 2 columns]"
      ]
     },
     "execution_count": 104,
     "metadata": {},
     "output_type": "execute_result"
    }
   ],
   "source": [
    "predictions = et_model.predict(X_test)\n",
    "\n",
    "comparison_df = pd.DataFrame({'Real Values': y_test, 'Predictions': predictions})\n",
    "\n",
    "comparison_df"
   ]
  },
  {
   "cell_type": "code",
   "execution_count": 105,
   "metadata": {},
   "outputs": [
    {
     "data": {
      "text/plain": [
       "array([ 9.25, 13.75, 14.25,  6.5 , 12.25,  5.  ,  7.75,  2.75, 11.75,\n",
       "        4.25,  3.5 , 10.75,  7.  ,  2.  ,  3.  ,  6.  ,  6.75, 12.75,\n",
       "       11.  , 10.25, 10.5 ,  2.25,  4.5 , 11.25,  7.5 , 14.  ,  5.25,\n",
       "        3.75,  5.5 , 10.  , 13.25,  8.25,  6.25, 13.  ])"
      ]
     },
     "execution_count": 105,
     "metadata": {},
     "output_type": "execute_result"
    }
   ],
   "source": [
    "y_train.unique()"
   ]
  },
  {
   "cell_type": "code",
   "execution_count": 106,
   "metadata": {},
   "outputs": [
    {
     "name": "stdout",
     "output_type": "stream",
     "text": [
      "Decisão final:  [13.25]\n"
     ]
    }
   ],
   "source": [
    "final_decision = et_model.predict(X_test.iloc[-1:].values)\n",
    "\n",
    "print(\"Decisão final: \", final_decision)    "
   ]
  },
  {
   "cell_type": "markdown",
   "metadata": {},
   "source": [
    "### Random Forest Regressor\t"
   ]
  },
  {
   "cell_type": "code",
   "execution_count": 108,
   "metadata": {},
   "outputs": [
    {
     "name": "stdout",
     "output_type": "stream",
     "text": [
      "Fitting 3 folds for each of 288 candidates, totalling 864 fits\n",
      "Melhores parâmetros para RandomForestRegressor:  {'bootstrap': True, 'max_depth': None, 'min_samples_leaf': 1, 'min_samples_split': 10, 'n_estimators': 500}\n"
     ]
    }
   ],
   "source": [
    "from sklearn.ensemble import RandomForestRegressor\n",
    "from sklearn.impute import SimpleImputer\n",
    "\n",
    "imputer = SimpleImputer(strategy='mean')  \n",
    "df_imputed = pd.DataFrame(imputer.fit_transform(df), columns=df.columns)\n",
    "\n",
    "X = df_imputed.drop('Selic', axis=1)\n",
    "y = df_imputed['Selic']\n",
    "\n",
    "param_grid = {\n",
    "    'n_estimators': [50, 100, 200, 500],\n",
    "    'max_depth': [None, 10, 20, 30],\n",
    "    'min_samples_split': [2, 5, 10],\n",
    "    'min_samples_leaf': [1, 2, 4],\n",
    "    'bootstrap': [True, False]\n",
    "}\n",
    "\n",
    "X_train, X_test, y_train, y_test = train_test_split(X, y, test_size=0.4, random_state=42)\n",
    "\n",
    "rf = RandomForestRegressor(random_state=42)\n",
    "\n",
    "grid_search_rf = GridSearchCV(estimator=rf, param_grid=param_grid, cv=3, n_jobs=-1, verbose=2)\n",
    "grid_search_rf.fit(X_train, y_train)\n",
    "\n",
    "best_params_rf = grid_search_rf.best_params_\n",
    "\n",
    "print(\"Melhores parâmetros para RandomForestRegressor: \", best_params_rf)"
   ]
  },
  {
   "cell_type": "code",
   "execution_count": 109,
   "metadata": {},
   "outputs": [
    {
     "name": "stdout",
     "output_type": "stream",
     "text": [
      "Decisão final para RandomForestRegressor:  [13.20806372]\n"
     ]
    }
   ],
   "source": [
    "rf_model = RandomForestRegressor(**best_params_rf, random_state=42)\n",
    "\n",
    "rf_model.fit(X_train, y_train)\n",
    "\n",
    "final_decision_rf = rf_model.predict(X_test.iloc[-1:].values)\n",
    "\n",
    "print(\"Decisão final para RandomForestRegressor: \", final_decision_rf)"
   ]
  },
  {
   "cell_type": "code",
   "execution_count": 110,
   "metadata": {},
   "outputs": [
    {
     "name": "stdout",
     "output_type": "stream",
     "text": [
      "Acurácia da validação cruzada: 0.9944297737409789 (+/- 0.0033457284570814934)\n",
      "Acurácia nos dados de teste: 0.9951192268373175\n",
      "Decisão final para RandomForestRegressor:  [13.09615385]\n"
     ]
    }
   ],
   "source": [
    "from sklearn.feature_selection import SelectFromModel\n",
    "\n",
    "best_params_rf = {'bootstrap': False, 'max_depth': None, 'min_samples_leaf': 1, 'min_samples_split': 10, 'n_estimators': 200}\n",
    "\n",
    "rf = RandomForestRegressor(**best_params_rf, random_state=42)\n",
    "\n",
    "selector = SelectFromModel(estimator=rf).fit(X_train, y_train)\n",
    "X_train_selected = selector.transform(X_train)\n",
    "X_test_selected = selector.transform(X_test)\n",
    "\n",
    "rf.fit(X_train_selected, y_train)\n",
    "\n",
    "scores = cross_val_score(rf, X_train_selected, y_train, cv=5)\n",
    "print(f\"Acurácia da validação cruzada: {scores.mean()} (+/- {scores.std() * 2})\")\n",
    "\n",
    "y_pred = rf.predict(X_test_selected)\n",
    "\n",
    "test_score = rf.score(X_test_selected, y_test)\n",
    "print(f\"Acurácia nos dados de teste: {test_score}\")\n",
    "\n",
    "final_decision_rf = rf.predict(X_test_selected[-1:])\n",
    "print(\"Decisão final para RandomForestRegressor: \", final_decision_rf)\n"
   ]
  },
  {
   "cell_type": "code",
   "execution_count": 111,
   "metadata": {},
   "outputs": [
    {
     "data": {
      "image/png": "[encoded data removed]",
      "text/plain": [
       "<Figure size 800x550 with 1 Axes>"
      ]
     },
     "metadata": {},
     "output_type": "display_data"
    }
   ],
   "source": [
    "rf_model = RandomForestRegressor(n_estimators=200, random_state=42)\n",
    "\n",
    "rf_model.fit(X_train, y_train)\n",
    "\n",
    "feat_importances = pd.Series(rf_model.feature_importances_, index=X_train.columns)\n",
    "\n",
    "top_feat_importances = feat_importances.nlargest(10)\n",
    "\n",
    "top_feat_importances.plot(kind='barh')\n",
    "plt.xlabel('Importância das Características')\n",
    "plt.title('Top 10 Características Mais Importantes')\n",
    "plt.show()"
   ]
  }
 ],
 "metadata": {
  "kernelspec": {
   "display_name": "Python 3",
   "language": "python",
   "name": "python3"
  },
  "language_info": {
   "codemirror_mode": {
    "name": "ipython",
    "version": 3
   },
   "file_extension": ".py",
   "mimetype": "text/x-python",
   "name": "python",
   "nbconvert_exporter": "python",
   "pygments_lexer": "ipython3",
   "version": "3.11.1"
  }
 },
 "nbformat": 4,
 "nbformat_minor": 2
}
