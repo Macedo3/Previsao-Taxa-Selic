{
 "cells": [
  {
   "cell_type": "markdown",
   "metadata": {},
   "source": [
    "# Starting the Exploratory Analysis"
   ]
  },
  {
   "cell_type": "markdown",
   "metadata": {},
   "source": [
    "## Importing the Libs"
   ]
  },
  {
   "cell_type": "code",
   "execution_count": null,
   "metadata": {},
   "outputs": [],
   "source": [
    "import pandas as pd\n",
    "import numpy as np\n",
    "import seaborn as sns\n",
    "import matplotlib.pyplot as plt\n",
    "sns.set_theme()"
   ]
  },
  {
   "cell_type": "markdown",
   "metadata": {},
   "source": [
    "## Tables Analysis"
   ]
  },
  {
   "cell_type": "markdown",
   "metadata": {},
   "source": [
    "### Table \"df_mensal.xlsx\""
   ]
  },
  {
   "cell_type": "code",
   "execution_count": null,
   "metadata": {},
   "outputs": [],
   "source": [
    "df_mensal = pd.read_excel('../data/df_mensal.xlsx', engine='openpyxl')"
   ]
  },
  {
   "cell_type": "code",
   "execution_count": null,
   "metadata": {},
   "outputs": [],
   "source": [
    "df_mensal.head(100)"
   ]
  },
  {
   "cell_type": "code",
   "execution_count": null,
   "metadata": {},
   "outputs": [],
   "source": [
    "df_mensal.shape"
   ]
  },
  {
   "cell_type": "code",
   "execution_count": null,
   "metadata": {},
   "outputs": [],
   "source": [
    "df_mensal.info()"
   ]
  },
  {
   "cell_type": "code",
   "execution_count": null,
   "metadata": {},
   "outputs": [],
   "source": [
    "df_mensal.describe()"
   ]
  },
  {
   "cell_type": "code",
   "execution_count": null,
   "metadata": {},
   "outputs": [],
   "source": [
    "df_mensal.isnull().sum()"
   ]
  },
  {
   "cell_type": "code",
   "execution_count": null,
   "metadata": {},
   "outputs": [],
   "source": [
    "df_mensal.dtypes"
   ]
  },
  {
   "cell_type": "markdown",
   "metadata": {},
   "source": [
    "#### IBC-Br - Atividade Econômica"
   ]
  },
  {
   "cell_type": "code",
   "execution_count": null,
   "metadata": {},
   "outputs": [],
   "source": [
    "sns.set(style=\"darkgrid\")\n",
    "\n",
    "plt.figure(figsize=(50, 15))\n",
    "\n",
    "sns.lineplot(x='DateTime', y='IBC-Br - atividade econômica', data=df_mensal, label='Atividade Econômica', color='blue')\n",
    "plt.xticks(rotation=45)\n",
    "\n",
    "plt.title('Relação entre Atividade Econômica e Tempo')\n",
    "plt.xlabel('Data')\n",
    "plt.ylabel('Indicador de Atvidade Econômica')\n",
    "\n",
    "plt.legend(fontsize='large')\n",
    "\n",
    "plt.show()"
   ]
  },
  {
   "cell_type": "markdown",
   "metadata": {},
   "source": [
    "#### IPCA Ocorrido"
   ]
  },
  {
   "cell_type": "code",
   "execution_count": null,
   "metadata": {},
   "outputs": [],
   "source": [
    "sns.set(style=\"darkgrid\")\n",
    "\n",
    "plt.figure(figsize=(50, 15))\n",
    "\n",
    "sns.lineplot(x='DateTime', y='IPCA ocorrido', data=df_mensal, label='IPCA Ocorrido', color='red')\n",
    "plt.xticks(rotation=45)\n",
    "\n",
    "plt.title('Relação entre a Inflação e o Tempo')\n",
    "plt.xlabel('Data')\n",
    "plt.ylabel('Indicador de Inflação (IPCA)')\n",
    "\n",
    "plt.legend(fontsize='large')\n",
    "\n",
    "plt.show()"
   ]
  },
  {
   "cell_type": "markdown",
   "metadata": {},
   "source": [
    "#### Variação Petroleo"
   ]
  },
  {
   "cell_type": "code",
   "execution_count": null,
   "metadata": {},
   "outputs": [],
   "source": [
    "sns.set(style=\"darkgrid\")\n",
    "\n",
    "plt.figure(figsize=(50, 15))\n",
    "\n",
    "sns.lineplot(x='DateTime', y='Variação Petroleo', data=df_mensal, label='Variação Petroleo', color='black')\n",
    "plt.xticks(rotation=45)\n",
    "\n",
    "plt.title('Relação entre a Variação do preço do Petroleo e Tempo')\n",
    "plt.xlabel('Data')\n",
    "plt.ylabel('Indicador de Variação do Preço do Petroleo')\n",
    "\n",
    "plt.legend(fontsize='large')\n",
    "\n",
    "plt.show()"
   ]
  },
  {
   "cell_type": "markdown",
   "metadata": {},
   "source": [
    "#### Taxa de Desemprego"
   ]
  },
  {
   "cell_type": "code",
   "execution_count": null,
   "metadata": {},
   "outputs": [],
   "source": [
    "sns.set(style=\"darkgrid\")\n",
    "\n",
    "plt.figure(figsize=(50, 15))\n",
    "\n",
    "sns.lineplot(x='DateTime', y='Taxa de desocupação – desemprego', data=df_mensal, label='Taxa de desocupação – Desemprego', color='purple')\n",
    "plt.xticks(rotation=45)\n",
    "\n",
    "plt.title('Relação entre a Taxa de Desocupação (Desemprego) e Tempo')\n",
    "plt.xlabel('Data')\n",
    "plt.ylabel('Indicador de Taxa de Desocupação (Desemprego)')\n",
    "\n",
    "plt.legend(fontsize='large')\n",
    "\n",
    "plt.show()"
   ]
  },
  {
   "cell_type": "markdown",
   "metadata": {},
   "source": [
    "### Table \"taxas_de_juros.xlsx\""
   ]
  },
  {
   "cell_type": "code",
   "execution_count": null,
   "metadata": {},
   "outputs": [],
   "source": [
    "taxas_de_juros = pd.read_excel('../data/taxas_de_juros.xlsx', engine='openpyxl')"
   ]
  },
  {
   "cell_type": "code",
   "execution_count": null,
   "metadata": {},
   "outputs": [],
   "source": [
    "taxas_de_juros.head()"
   ]
  },
  {
   "cell_type": "code",
   "execution_count": null,
   "metadata": {},
   "outputs": [],
   "source": [
    "taxas_de_juros.shape"
   ]
  },
  {
   "cell_type": "code",
   "execution_count": null,
   "metadata": {},
   "outputs": [],
   "source": [
    "taxas_de_juros.info()"
   ]
  },
  {
   "cell_type": "code",
   "execution_count": null,
   "metadata": {},
   "outputs": [],
   "source": [
    "taxas_de_juros.describe()"
   ]
  },
  {
   "cell_type": "code",
   "execution_count": null,
   "metadata": {},
   "outputs": [],
   "source": [
    "taxas_de_juros.isnull().sum()"
   ]
  },
  {
   "cell_type": "code",
   "execution_count": null,
   "metadata": {},
   "outputs": [],
   "source": [
    "taxas_de_juros.dtypes"
   ]
  },
  {
   "cell_type": "code",
   "execution_count": null,
   "metadata": {},
   "outputs": [],
   "source": [
    "taxas_de_juros['DateTime'] = pd.to_datetime(taxas_de_juros['DateTime'])\n",
    "\n",
    "taxas_de_juros.set_index('DateTime', inplace=True)\n",
    "\n",
    "taxas_de_juros_mensal = taxas_de_juros.resample('M').mean()"
   ]
  },
  {
   "cell_type": "markdown",
   "metadata": {},
   "source": [
    "#### Taxa de Juros Brasileira (SELIC)"
   ]
  },
  {
   "cell_type": "code",
   "execution_count": null,
   "metadata": {},
   "outputs": [],
   "source": [
    "sns.set(style=\"darkgrid\")\n",
    "\n",
    "plt.figure(figsize=(50, 15))\n",
    "\n",
    "sns.lineplot(x=taxas_de_juros_mensal.index, y='Selic', data=taxas_de_juros_mensal, label='Taxa de Juros Brasileira (SELIC)', color='#800000')\n",
    "plt.xticks(rotation=45)\n",
    "\n",
    "plt.title('Relação entre a Taxa de Juros brasileira (SELIC) e Tempo')\n",
    "plt.xlabel('Data')\n",
    "plt.ylabel('Indicador de Taxa de Juros brasileira (SELIC)')\n",
    "\n",
    "plt.legend(fontsize='large')\n",
    "\n",
    "plt.show()"
   ]
  },
  {
   "cell_type": "markdown",
   "metadata": {},
   "source": [
    "#### Taxa de Juros Americana"
   ]
  },
  {
   "cell_type": "code",
   "execution_count": null,
   "metadata": {},
   "outputs": [],
   "source": [
    "sns.set(style=\"darkgrid\")\n",
    "\n",
    "plt.figure(figsize=(50, 15))\n",
    "\n",
    "sns.lineplot(x=taxas_de_juros_mensal.index, y='Taxa Americana', data=taxas_de_juros_mensal, label='Taxa de Juros Americana', color='#000080')\n",
    "plt.xticks(rotation=45)\n",
    "\n",
    "plt.title('Relação entre a Taxa de Juros Americana e Tempo')\n",
    "plt.xlabel('Data')\n",
    "plt.ylabel('Indicador de Taxa de Juros Americana')\n",
    "\n",
    "plt.legend(fontsize='large')\n",
    "\n",
    "plt.show()"
   ]
  },
  {
   "cell_type": "markdown",
   "metadata": {},
   "source": [
    "### Table \"USD_BRL Dados Históricos.xlsx\""
   ]
  },
  {
   "cell_type": "code",
   "execution_count": null,
   "metadata": {},
   "outputs": [],
   "source": [
    "usd_brl = pd.read_excel('../data/USD_BRL Dados Históricos.xlsx', engine='openpyxl')"
   ]
  },
  {
   "cell_type": "code",
   "execution_count": null,
   "metadata": {},
   "outputs": [],
   "source": [
    "usd_brl.head()"
   ]
  },
  {
   "cell_type": "code",
   "execution_count": null,
   "metadata": {},
   "outputs": [],
   "source": [
    "usd_brl.describe()"
   ]
  },
  {
   "cell_type": "code",
   "execution_count": null,
   "metadata": {},
   "outputs": [],
   "source": [
    "usd_brl.isnull().sum()"
   ]
  },
  {
   "cell_type": "code",
   "execution_count": null,
   "metadata": {},
   "outputs": [],
   "source": [
    "usd_brl.info()"
   ]
  },
  {
   "cell_type": "code",
   "execution_count": null,
   "metadata": {},
   "outputs": [],
   "source": [
    "usd_brl.dtypes"
   ]
  },
  {
   "cell_type": "code",
   "execution_count": null,
   "metadata": {},
   "outputs": [],
   "source": [
    "usd_brl.shape"
   ]
  },
  {
   "cell_type": "markdown",
   "metadata": {},
   "source": [
    "### Plotting Merge Graphs"
   ]
  },
  {
   "cell_type": "markdown",
   "metadata": {},
   "source": [
    "#### \"IPCA\" and \"Atividade Econômica\""
   ]
  },
  {
   "cell_type": "code",
   "execution_count": null,
   "metadata": {},
   "outputs": [],
   "source": [
    "sns.set(style=\"darkgrid\")\n",
    "\n",
    "plt.figure(figsize=(50, 15))\n",
    "\n",
    "sns.lineplot(x='DateTime', y='IPCA ocorrido', data=df_mensal, label='IPCA', color='red')\n",
    "sns.lineplot(x='DateTime', y='IBC-Br - atividade econômica', data=df_mensal, label='IBC-Br - atividade econômica', color='blue')\n",
    "plt.xticks(rotation=45)\n",
    "\n",
    "plt.title('Relação entre o IPCA e IBC-Br - atividade econômica')\n",
    "plt.xlabel('Data')\n",
    "plt.ylabel('Relação entre o IPCA e IBC-Br - atividade econômica')\n",
    "\n",
    "plt.legend(fontsize='large')\n",
    "\n",
    "plt.show()"
   ]
  },
  {
   "cell_type": "markdown",
   "metadata": {},
   "source": [
    "#### \"Variação Petroleo\" and IPCA ocorrido "
   ]
  },
  {
   "cell_type": "code",
   "execution_count": null,
   "metadata": {},
   "outputs": [],
   "source": [
    "sns.set(style=\"darkgrid\")\n",
    "\n",
    "plt.figure(figsize=(50, 15))\n",
    "\n",
    "sns.lineplot(x='DateTime', y='IPCA ocorrido', data=df_mensal, label='IPCA', color='red')\n",
    "sns.lineplot(x='DateTime', y='Variação Petroleo', data=df_mensal, label='Variação do Preço do Petroleo', color='black')\n",
    "plt.xticks(rotation=45)\n",
    "\n",
    "plt.title('Relação entre o IPCA e a Variação do Preço do Petroleo')\n",
    "plt.xlabel('Data')\n",
    "plt.ylabel('Relação entre o IPCA e a Variação do Preço do Petroleo')\n",
    "\n",
    "plt.legend(fontsize='large')\n",
    "\n",
    "plt.show()"
   ]
  },
  {
   "cell_type": "markdown",
   "metadata": {},
   "source": [
    "#### \"Selic\" and \"Taxa Americana\""
   ]
  },
  {
   "cell_type": "code",
   "execution_count": null,
   "metadata": {},
   "outputs": [],
   "source": [
    "sns.set(style=\"darkgrid\")\n",
    "\n",
    "plt.figure(figsize=(50, 15))\n",
    "\n",
    "sns.lineplot(x='DateTime', y='Selic', data=taxas_de_juros, label='Taxa de Juros Brasileira (SELIC)', color='#800000')\n",
    "sns.lineplot(x='DateTime', y='Taxa Americana', data=taxas_de_juros, label='Taxa de Juros Americana', color='#000080')\n",
    "plt.xticks(rotation=45)\n",
    "\n",
    "plt.title('Relação entre a Selic e a Taxa Americana')\n",
    "plt.xlabel('Data')\n",
    "plt.ylabel('Relação entre a Selic e a Taxa Americana')\n",
    "\n",
    "plt.legend(fontsize='large')\n",
    "\n",
    "plt.show()"
   ]
  },
  {
   "cell_type": "markdown",
   "metadata": {},
   "source": [
    "#### USD_BRL Dados Históricos.csv"
   ]
  },
  {
   "cell_type": "code",
   "execution_count": null,
   "metadata": {},
   "outputs": [],
   "source": []
  }
 ],
 "metadata": {
  "kernelspec": {
   "display_name": "Python 3",
   "language": "python",
   "name": "python3"
  },
  "language_info": {
   "codemirror_mode": {
    "name": "ipython",
    "version": 3
   },
   "file_extension": ".py",
   "mimetype": "text/x-python",
   "name": "python",
   "nbconvert_exporter": "python",
   "pygments_lexer": "ipython3",
   "version": "3.11.1"
  }
 },
 "nbformat": 4,
 "nbformat_minor": 2
}
